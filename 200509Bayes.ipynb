{
 "cells": [
  {
   "cell_type": "code",
   "execution_count": 3,
   "metadata": {},
   "outputs": [],
   "source": [
    "# -*- coding: utf-8 -*-\n",
    "\"\"\"\n",
    "    贝叶斯分类器\n",
    "    ~~~~~~~~~~~~~~~~~~~~~~~~~~\n",
    "    高斯贝叶斯分类器与强条件独立下的朴素贝叶斯分类器\n",
    "    :copyright: (c) 2020 by the angusgao.\n",
    "\"\"\"\n",
    "%matplotlib inline"
   ]
  },
  {
   "cell_type": "markdown",
   "metadata": {},
   "source": [
    "# 导入所需ListedColormap(从颜色列表生成的Colormap对象。)StratiedShuffleSplit(返回分层的随机褶皱)等库"
   ]
  },
  {
   "cell_type": "code",
   "execution_count": 9,
   "metadata": {},
   "outputs": [],
   "source": [
    "from matplotlib.colors import ListedColormap\n",
    "from sklearn import datasets\n",
    "from sklearn.model_selection import StratifiedShuffleSplit\n",
    "import  matplotlib.pyplot as plt\n",
    "import numpy as np\n",
    "from collections import Counter\n",
    "import math"
   ]
  },
  {
   "cell_type": "code",
   "execution_count": 10,
   "metadata": {},
   "outputs": [],
   "source": [
    "# 制作Bayes class [在“各类正态分布”前提下]"
   ]
  },
  {
   "cell_type": "code",
   "execution_count": 11,
   "metadata": {},
   "outputs": [],
   "source": [
    "class Bayes:\n",
    "    def __init__(self):\n",
    "        self.model = None#盛放模型的参数包括协方差矩阵\n",
    "        self.prior = None#盛放先验概率\n",
    "\n",
    "    # 数学期望\n",
    "    @staticmethod\n",
    "    def mean(X):\n",
    "        avg = sum(X) / float(len(X))\n",
    "        return avg\n",
    "    # covariance matrix\n",
    "    def cov(self,X,mean):\n",
    "        dim = len(mean) # 3\n",
    "        sum = np.zeros((dim,dim))\n",
    "        for row in X:\n",
    "            tmp =  np.dot(np.matrix(row-mean).T,np.matrix(row-mean))\n",
    "            sum += tmp\n",
    "        return sum * 1/len(X)\n",
    "    # 标准差（方差）\n",
    "    def stdev(self,cov):\n",
    "        res = 0.0\n",
    "        res = np.linalg.det(cov)\n",
    "        return res  \n",
    "    # 处理X_train\n",
    "    def summarize(self, train_data):\n",
    "        summaries = [0.0, 0.0]\n",
    "        summaries = [(i) for i in zip(*train_data)]\n",
    "        mean = self.mean(train_data)\n",
    "        cov = self.cov(np.array(train_data),mean)\n",
    "        summaries = [mean,self.stdev(cov),cov]\n",
    "        return summaries\n",
    "     # 类条件概率密度函数\n",
    "    def gaussian_probability(self, x, mean, stdev,cov):\n",
    "        res = 0.0\n",
    "        exponent = math.exp( (-1/2) * np.dot(np.dot((x - mean).T , np.mat(cov).I ),(x-mean)))               \n",
    "        dim = np.array(x).shape[0]  \n",
    "        res = (1 / (math.pow(2 * math.pi,dim/2) * stdev)) * exponent     \n",
    "        return res\n",
    "    # 分类别求出数学期望和标准差,协方差，先验概率\n",
    "    def fit(self, X, y):\n",
    "        labels = list(set(y))\n",
    "        data = {label: [] for label in labels}\n",
    "        for f, label in zip(X, y):\n",
    "            data[label].append(f)\n",
    "        self.model = {\n",
    "            label: self.summarize(value) for label, value in data.items()\n",
    "        }\n",
    "        self.prior = self.prior_function(y) \n",
    "        return 'gaussian_B train done!'\n",
    "    def prior_function(self,y):\n",
    "        tmp = Counter(y)\n",
    "        total = len(y)#总的标签数量 150\n",
    "        res = {item: value/total for item,value in tmp.items()}   \n",
    "        return res\n",
    "    # 计算概率\n",
    "    def calculate_probabilities(self, input_data):\n",
    "        probabilities = {}\n",
    "        for label, value in self.model.items():\n",
    "            probabilities[label] = self.prior[label]\n",
    "            mean,stdev,cov = value\n",
    "            probabilities[label] *= self.gaussian_probability(\n",
    "                    input_data, mean, stdev,cov)\n",
    "        return probabilities\n",
    "    # 类别\n",
    "    def predict(self, X_test):\n",
    "        label = sorted(self.calculate_probabilities(X_test).items(), key=lambda x: x[-1])[-1][0]\n",
    "        return label\n",
    "    # 计算得分\n",
    "    def score(self, X_test, y_test):\n",
    "        right = 0\n",
    "        for X, y in zip(X_test, y_test):\n",
    "            label = self.predict(X)\n",
    "            if label == y:\n",
    "                right += 1\n",
    "        return right / float(len(X_test))"
   ]
  },
  {
   "cell_type": "markdown",
   "metadata": {},
   "source": [
    "# Naive Bayes class"
   ]
  },
  {
   "cell_type": "code",
   "execution_count": 12,
   "metadata": {},
   "outputs": [],
   "source": [
    "class NaiveBayes:\n",
    "    def __init__(self):\n",
    "        self.model = None\n",
    "        self.prior = None\n",
    "    # 数学期望\n",
    "    @staticmethod\n",
    "    def mean(X):\n",
    "        avg = 0.0\n",
    "        avg = sum(X) / float(len(X))\n",
    "        return avg\n",
    "\n",
    "    # 标准差（方差）\n",
    "    def stdev(self, X):\n",
    "        res = 0.0\n",
    "        avg = self.mean(X)\n",
    "        res = math.sqrt(sum([pow(x - avg, 2) for x in X]) / float(len(X)))\n",
    "        return res\n",
    "        \n",
    "    # 类条件概率密度函数\n",
    "    def gaussian_probability(self, x, mean, stdev):\n",
    "        res = 0.0\n",
    "        exponent = math.exp(-(math.pow(x - mean, 2) /\n",
    "                              (2 * math.pow(stdev, 2))))\n",
    "        res = (1 / (math.sqrt(2 * math.pi) * stdev)) * exponent       \n",
    "        return res\n",
    "        \n",
    "    # 处理X_train\n",
    "    def summarize(self, train_data):\n",
    "        \"\"\"计算每个类目下对应数据的均值和标准差\n",
    "        Param: train_data : list\n",
    "        \n",
    "        Return : [mean, stdev]\n",
    "        \"\"\"\n",
    "        summaries = [0.0, 0.0]\n",
    "        summaries = [(self.mean(i), self.stdev(i)) for i in zip(*train_data)]\n",
    "        return summaries\n",
    "\n",
    "    # 分类别求出数学期望和标准差\n",
    "    def fit(self, X, y):\n",
    "        labels = list(set(y))\n",
    "        data = {label: [] for label in labels}\n",
    "        for f, label in zip(X, y):\n",
    "            data[label].append(f)\n",
    "        self.model = {\n",
    "            label: self.summarize(value) for label, value in data.items()\n",
    "        }\n",
    "        self.prior = self.prior_function(y) \n",
    "        return 'gaussianNB train done!'\n",
    "    def prior_function(self,y):\n",
    "        tmp = Counter(y)\n",
    "        total = len(y)#总的标签数量 150\n",
    "        res = {item: value/total for item,value in tmp.items()}   \n",
    "        return res\n",
    "    # 计算概率\n",
    "    def calculate_probabilities(self, input_data):\n",
    "        \"\"\"计算数据在各个高斯分布下的概率\n",
    "        Paramter:\n",
    "        input_data : 输入数据\n",
    "        \n",
    "        Return:\n",
    "        probabilities : {label : p}\n",
    "        \"\"\"\n",
    "        probabilities = {}\n",
    "\n",
    "        for label, value in self.model.items():\n",
    "            probabilities[label] = self.prior[label]\n",
    "            for i in range(len(value)):\n",
    "                mean, stdev = value[i]\n",
    "                probabilities[label] *= self.gaussian_probability(\n",
    "                    input_data[i], mean, stdev)\n",
    "\n",
    "        return probabilities\n",
    "\n",
    "    # 类别\n",
    "    def predict(self, X_test):\n",
    "        # {0.0: 2.9680340789325763e-27, 1.0: 3.5749783019849535e-26}\n",
    "        label = sorted(self.calculate_probabilities(X_test).items(), key=lambda x: x[-1])[-1][0]\n",
    "        return label\n",
    "    # 计算得分\n",
    "    def score(self, X_test, y_test):\n",
    "        right = 0\n",
    "        for X, y in zip(X_test, y_test):\n",
    "            label = self.predict(X)\n",
    "            if label == y:\n",
    "                right += 1\n",
    "\n",
    "        return right / float(len(X_test))"
   ]
  },
  {
   "cell_type": "markdown",
   "metadata": {},
   "source": [
    "# 2d可视化"
   ]
  },
  {
   "cell_type": "code",
   "execution_count": 13,
   "metadata": {},
   "outputs": [],
   "source": [
    "def show_iris():\n",
    "    '''\n",
    "    结合类信息，在二维空间，以不同颜色绘制各样本点，以直观认识不同类别的分布。\n",
    "    :return: None\n",
    "    '''\n",
    "    iris = datasets.load_iris()\n",
    "    X = iris.data\n",
    "    y =iris.target\n",
    "    h = .02\n",
    "    x_min, x_max = X[:, 0].min() - 1, X[:, 0].max() + 1\n",
    "    y_min, y_max = X[:, 1].min() - 1, X[:, 1].max() + 1\n",
    "    xx, yy = np.meshgrid(np.arange(x_min, x_max, h),\n",
    "                     np.arange(y_min, y_max, h))\n",
    "    cmap_bold = ListedColormap(['darkorange', 'c', 'darkblue'])\n",
    "    plt.scatter(X[:,0],X[:,1],c=y, cmap=cmap_bold,\n",
    "           edgecolor='k', s=20)\n",
    "    plt.xlim(xx.min(), xx.max())\n",
    "    plt.ylim(yy.min(), yy.max())\n",
    "    plt.title(\"3-Class distribution\",loc='center')\n",
    "\n",
    "    plt.show()"
   ]
  },
  {
   "cell_type": "code",
   "execution_count": 13,
   "metadata": {},
   "outputs": [],
   "source": [
    "def test_GaussianNB(*data):\n",
    "    '''\n",
    "    测试 GaussianNB 的用法\n",
    "    :param data: 可变参数。它是一个元组，这里要求其元素依次为：训练样本集、测试样本集、训练样本的标记、测试样本的标记\n",
    "    :return: None\n",
    "    '''\n",
    "    X_train,X_test,y_train,y_test=data\n",
    "    #cls=naive_bayes.GaussianNB()\n",
    "    cls = NaiveBayes()\n",
    "    cls.fit(X_train,y_train)\n",
    "    return 1 - cls.score(X_test, y_test)\n",
    "    \n",
    " "
   ]
  },
  {
   "cell_type": "code",
   "execution_count": 13,
   "metadata": {},
   "outputs": [],
   "source": [
    "   \n",
    "def test_GaussianB(*data):\n",
    "    '''\n",
    "    测试 MultinomialNB 的用法\n",
    "    :param data: 可变参数。它是一个元组，这里要求其元素依次为：训练样本集、测试样本集、训练样本的标记、测试样本的标记\n",
    "    :return: None\n",
    "    '''\n",
    "    X_train,X_test,y_train,y_test=data\n",
    "    cls=Bayes()\n",
    "    cls.fit(X_train,y_train)\n",
    "    return 1 - cls.score(X_test, y_test)"
   ]
  },
  {
   "cell_type": "markdown",
   "metadata": {},
   "source": [
    "# 2d可视化"
   ]
  },
  {
   "cell_type": "code",
   "execution_count": 13,
   "metadata": {},
   "outputs": [],
   "source": [
    "def visiable(clf,X,y):\n",
    "    h = .02\n",
    "    \n",
    "    cmap_light = ListedColormap(['orange', 'cyan', 'cornflowerblue'])\n",
    "    cmap_bold = ListedColormap(['darkorange', 'c', 'darkblue'])\n",
    "    \n",
    "    \n",
    "    #(1) 利用上述所有样本生成最终的决策树模型，完成上述工作。\n",
    "    clf = clf\n",
    "    clf.fit(X, y)\n",
    "    \n",
    "    # Plot the decision boundary. For that, we will assign a color to each\n",
    "    # point in the mesh [x_min, x_max]x[y_min, y_max].\n",
    "    x_min, x_max = np.array(X)[:, 0].min() - 1, np.array(X)[:, 0].max() + 1\n",
    "    y_min, y_max = np.array(X)[:, 1].min() - 1, np.array(X)[:, 1].max() + 1\n",
    "    xx, yy = np.meshgrid(np.arange(x_min, x_max, h),\n",
    "                         np.arange(y_min, y_max, h))\n",
    "    Z = list()\n",
    "    for row in np.c_[xx.ravel(), yy.ravel()]:\n",
    "        Z.append( clf.predict(row) )   \n",
    "        \n",
    "    # Put the result into a color plot\n",
    "    Z = np.array(Z).reshape(xx.shape)\n",
    "    plt.figure()\n",
    "    plt.pcolormesh(xx, yy, Z, cmap=cmap_light)\n",
    "    \n",
    "    # Plot also the training points\n",
    "    plt.scatter(np.array(X)[:, 0], np.array(X)[:, 1],cmap=cmap_bold,\n",
    "                c=np.squeeze(y),edgecolor='k', s=20)\n",
    "    plt.xlim(xx.min(), xx.max())\n",
    "    plt.ylim(yy.min(), yy.max())\n",
    "    plt.title(\"%s\" % clf)\n",
    "    \n",
    "    plt.show() "
   ]
  },
  {
   "cell_type": "code",
   "execution_count": 13,
   "metadata": {},
   "outputs": [],
   "source": [
    "if __name__=='__main__':\n",
    "\n",
    "    show_iris()\n",
    "    #  加载鸢尾花数据集，保留原始数据集的前2个特征；\n",
    "    iris = datasets.load_iris()\n",
    "    X =iris.data[:,0:2]\n",
    "    y = iris.target[:]\n",
    "    \n",
    "    #将其分层随机打乱，均分成m=5等份。拿出任意1份作为测试集、剩余4份作为训练集，得到5个版本的训练集、测试集组合进行学习\n",
    "    sss = StratifiedShuffleSplit(n_splits=5, test_size=.25, random_state=0) \n",
    "  "
   ]
  },
  {
   "cell_type": "code",
   "execution_count": 13,
   "metadata": {},
   "outputs": [],
   "source": [
    "  \n",
    "    print(\"\\n+++++贝叶斯分类模型+++++\\n\")\n",
    "    i = 1\n",
    "    score = []\n",
    "    for train_index, test_index in sss.split(X,y):\n",
    "        print(\"############第%d折#############\" % i)\n",
    "        i += 1\n",
    "        X_train, X_test = X[train_index], X[test_index]\n",
    "        y_train, y_test = y[train_index], y[test_index]\n",
    "        error = test_GaussianB(X_train,X_test,y_train,y_test)\n",
    "        print('Testing Error: %.2f' % error)\n",
    "        score.append(error)\n",
    "    print('\\nAverage Testing Error: %.2f' % np.array(score).mean())\n",
    "    visiable(Bayes(),X,y)"
   ]
  },
  {
   "cell_type": "code",
   "execution_count": 13,
   "metadata": {},
   "outputs": [
    {
     "data": {
      "image/png": "[encoded data removed]",
      "text/plain": [
       "<Figure size 432x288 with 1 Axes>"
      ]
     },
     "metadata": {
      "needs_background": "light"
     },
     "output_type": "display_data"
    },
    {
     "name": "stdout",
     "output_type": "stream",
     "text": [
      "\n",
      "+++++贝叶斯分类模型+++++\n",
      "\n",
      "############第1折#############\n",
      "Testing Error: 0.32\n",
      "############第2折#############\n",
      "Testing Error: 0.24\n",
      "############第3折#############\n",
      "Testing Error: 0.18\n",
      "############第4折#############\n",
      "Testing Error: 0.21\n",
      "############第5折#############\n",
      "Testing Error: 0.24\n",
      "\n",
      "Average Testing Error: 0.24\n"
     ]
    },
    {
     "data": {
      "image/png": "[encoded data removed]",
      "text/plain": [
       "<Figure size 432x288 with 1 Axes>"
      ]
     },
     "metadata": {
      "needs_background": "light"
     },
     "output_type": "display_data"
    },
    {
     "name": "stdout",
     "output_type": "stream",
     "text": [
      "\n",
      "++++高斯朴素贝叶斯分类模型的学习、评价与使用++++++\n",
      "\n",
      "############第1折#############\n",
      "Testing Error: 0.29\n",
      "############第2折#############\n",
      "Testing Error: 0.24\n",
      "############第3折#############\n",
      "Testing Error: 0.11\n",
      "############第4折#############\n",
      "Testing Error: 0.21\n",
      "############第5折#############\n",
      "Testing Error: 0.18\n",
      "\n",
      "Average Testing Error: 0.21\n"
     ]
    },
    {
     "data": {
      "image/png": "[encoded data removed]",
      "text/plain": [
       "<Figure size 432x288 with 1 Axes>"
      ]
     },
     "metadata": {
      "needs_background": "light"
     },
     "output_type": "display_data"
    }
   ],
   "source": [
    "    print(\"\\n++++高斯朴素贝叶斯分类模型的学习、评价与使用++++++\\n\")\n",
    "    i = 1\n",
    "    score = []\n",
    "    for train_index, test_index in sss.split(X,y):\n",
    "        print(\"############第%d折#############\" % i)\n",
    "        i += 1\n",
    "        X_train, X_test = X[train_index], X[test_index]\n",
    "        y_train, y_test = y[train_index], y[test_index]\n",
    "        \n",
    "        error = test_GaussianNB(X_train,X_test,y_train,y_test)\n",
    "        print('Testing Error: %.2f' % error)\n",
    "        score.append(error)\n",
    "    print('\\nAverage Testing Error: %.2f' % np.array(score).mean())\n",
    "    visiable(NaiveBayes(),X,y)"
   ]
  },
  {
   "cell_type": "code",
   "execution_count": 3,
   "metadata": {},
   "outputs": [],
   "source": [
    "# data\n",
    "def create_data():\n",
    "    iris = load_iris()\n",
    "    df = pd.DataFrame(iris.data, columns=iris.feature_names)\n",
    "    df['label'] = iris.target\n",
    "    df.columns = ['sepal length', 'sepal width', 'petal length', 'petal width', 'label']\n",
    "    data = np.array(df.iloc[:150, :])\n",
    "    # print(data)\n",
    "    return data[:,:-1], data[:,-1]"
   ]
  },
  {
   "cell_type": "code",
   "execution_count": null,
   "metadata": {},
   "outputs": [],
   "source": []
  },
  {
   "cell_type": "code",
   "execution_count": null,
   "metadata": {},
   "outputs": [],
   "source": []
  }
 ],
 "metadata": {
  "kernelspec": {
   "display_name": "Python 3",
   "language": "python",
   "name": "python3"
  },
  "language_info": {
   "codemirror_mode": {
    "name": "ipython",
    "version": 3
   },
   "file_extension": ".py",
   "mimetype": "text/x-python",
   "name": "python",
   "nbconvert_exporter": "python",
   "pygments_lexer": "ipython3",
   "version": "3.7.7"
  }
 },
 "nbformat": 4,
 "nbformat_minor": 4
}
